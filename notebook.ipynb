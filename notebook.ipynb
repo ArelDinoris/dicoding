Proyek Analisis Data

#Mempersiapkan Library yang dibutuhkan#
import pandas as pd
import matplotlib.pyplot as plt

#Data Wrangling#
